{
 "cells": [
  {
   "cell_type": "code",
   "execution_count": 27,
   "metadata": {},
   "outputs": [],
   "source": [
    "\n",
    "class_csv = '/home/kylecshan/saved/06_04_2019/delfTL_dist/cosine/delfTLlabel.csv'"
   ]
  },
  {
   "cell_type": "code",
   "execution_count": 28,
   "metadata": {},
   "outputs": [],
   "source": [
    "import numpy as np\n",
    "preds = np.array([[2, 2, 2, 4, 4, 5], [1, 1, 2, 1, 2, 5], [3, 4, 3, 5, 2, 1], [4, 1, 1, 2, 4, 4]])"
   ]
  },
  {
   "cell_type": "code",
   "execution_count": 29,
   "metadata": {},
   "outputs": [],
   "source": [
    "import pandas\n",
    "df = pandas.read_csv(class_csv, header=None)\n",
    "array = df.values[:, :100]\n",
    "# array = preds"
   ]
  },
  {
   "cell_type": "code",
   "execution_count": 30,
   "metadata": {},
   "outputs": [
    {
     "name": "stdout",
     "output_type": "stream",
     "text": [
      "[   0 1479  118  305  477 1656    0  928 1504    0 1933  687 1573 1839\n",
      " 1504 1773  490  450  490  713 1383  581  501  623 1557 1812 1490 1030\n",
      " 1035 1672 1952  526 1766  523 1557 1586 1331 1709 1949 1860 1229  193\n",
      " 1916 1264 1766  581 1979 1135  157 1921 1168 1672 1608 1766 1144 1390\n",
      "  157 1315 1557 1773  980 1568 1421 1812 1873   92  934 1839 1026 1207\n",
      "  782  910   44 1672 1656  610   34 1860  910  511 1911    4 1870  511\n",
      " 1229  290 1979 1766 1511  639 1004 1331 1895  622  304 1419  452  105\n",
      "  511 1608]\n"
     ]
    }
   ],
   "source": [
    "print (array[1])"
   ]
  },
  {
   "cell_type": "code",
   "execution_count": 31,
   "metadata": {},
   "outputs": [
    {
     "name": "stdout",
     "output_type": "stream",
     "text": [
      "8000 100\n",
      "0.09422041086865388\n"
     ]
    }
   ],
   "source": [
    "def mAP(array):\n",
    "    N, M = array.shape\n",
    "    print (N, M)\n",
    "    score = 0\n",
    "#     mq = 2\n",
    "    mq = 20\n",
    "    for i in range(N):\n",
    "        running_correct = 0\n",
    "        for j in range(1, M):\n",
    "            if array[i][j] == array[i][0]:\n",
    "                running_correct += 1\n",
    "                score += running_correct/j\n",
    "    score /= (N*mq)\n",
    "    return score\n",
    "    \n",
    "print (mAP(array))\n",
    "    "
   ]
  },
  {
   "cell_type": "code",
   "execution_count": 1,
   "metadata": {},
   "outputs": [
    {
     "name": "stdout",
     "output_type": "stream",
     "text": [
      "[1, 2] [2, 3]\n"
     ]
    }
   ],
   "source": [
    "a = [[1,2], [2,3]]\n",
    "\n",
    "b, c = a\n",
    "\n",
    "print (b, c)"
   ]
  },
  {
   "cell_type": "code",
   "execution_count": 35,
   "metadata": {},
   "outputs": [],
   "source": [
    "save_path = '/home/kylecshan/saved/05_31_2019/'\n",
    "N = 768"
   ]
  },
  {
   "cell_type": "code",
   "execution_count": 36,
   "metadata": {},
   "outputs": [],
   "source": [
    "import faiss\n",
    "import numpy as np\n",
    "from sklearn.decomposition import PCA\n",
    "\n",
    "def PCA_index(save_path, N = 768):\n",
    "    index = faiss.read_index(save_path + 'tdelf.index')\n",
    "    test = faiss.read_index(save_path + 'tdelftest.index')\n",
    "\n",
    "    nb = index.ntotal\n",
    "    nq = test.ntotal\n",
    "\n",
    "    index_matrix = np.vstack([index.reconstruct(i) for i in range(nb)])\n",
    "    test_matrix = np.vstack([test.reconstruct(i) for i in range(nq)])\n",
    "\n",
    "    X = np.vstack((index_matrix, test_matrix))\n",
    "\n",
    "    pca = PCA(n_components=N)\n",
    "    pca.fit(X)  \n",
    "    Y = pca.fit_transform(X) \n",
    "\n",
    "    index_pca = Y[:nb]\n",
    "    test_pca = Y[nb:]\n",
    "\n",
    "    index_cpu = faiss.IndexFlatL2(N)\n",
    "    test_cpu = faiss.IndexFlatL2(N)\n",
    "\n",
    "    for i in range(nb):\n",
    "        index_cpu.add(np.ascontiguousarray(index_pca[i][np.newaxis, :]))\n",
    "\n",
    "    for i in range(nq):\n",
    "        test_cpu.add(np.ascontiguousarray(test_pca[i][np.newaxis, :]))\n",
    "\n",
    "    faiss.write_index(index_cpu, save_path + 'index_pca.index')\n",
    "    faiss.write_index(test_cpu, save_path + 'test_pca.index')"
   ]
  },
  {
   "cell_type": "code",
   "execution_count": null,
   "metadata": {},
   "outputs": [],
   "source": [
    "PCA_index(save_path)"
   ]
  }
 ],
 "metadata": {
  "kernelspec": {
   "display_name": "Python [conda env:root] *",
   "language": "python",
   "name": "conda-root-py"
  },
  "language_info": {
   "codemirror_mode": {
    "name": "ipython",
    "version": 3
   },
   "file_extension": ".py",
   "mimetype": "text/x-python",
   "name": "python",
   "nbconvert_exporter": "python",
   "pygments_lexer": "ipython3",
   "version": "3.7.3"
  }
 },
 "nbformat": 4,
 "nbformat_minor": 2
}

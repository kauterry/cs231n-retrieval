{
 "cells": [
  {
   "cell_type": "code",
   "execution_count": 1,
   "metadata": {},
   "outputs": [],
   "source": [
    "import csv\n",
    "import urllib2\n",
    "import pickle"
   ]
  },
  {
   "cell_type": "code",
   "execution_count": 2,
   "metadata": {},
   "outputs": [],
   "source": [
    "def ParseData(data_file):\n",
    "    csvfile = open(data_file, 'r')\n",
    "    csvreader = csv.reader(csvfile)\n",
    "    key_url_list = [line[:2] for line in csvreader]\n",
    "    return key_url_list[1:]  # Chop off header\n",
    "\n",
    "test_file = \"/home/kylecshan/data/test.csv\"\n",
    "index_file = \"/home/kylecshan/data/index.csv\"\n",
    "\n",
    "key_url_test = ParseData(test_file)\n",
    "key_url_index = ParseData(index_file)\n"
   ]
  },
  {
   "cell_type": "code",
   "execution_count": 3,
   "metadata": {
    "scrolled": false
   },
   "outputs": [],
   "source": [
    "\n",
    "data_test = []\n",
    "index = 0\n",
    "\n",
    "for i, url in key_url_test[:1000]:\n",
    "    if url != 'None':\n",
    "        try:\n",
    "            response = urllib2.urlopen(url)\n",
    "            data_test.append(i)\n",
    "        except:\n",
    "            continue\n",
    "    index += 1\n",
    "    if index%1000 == 0:\n",
    "        print (index)"
   ]
  },
  {
   "cell_type": "code",
   "execution_count": 4,
   "metadata": {},
   "outputs": [],
   "source": [
    "\n",
    "data_index = []\n",
    "index = 0\n",
    "\n",
    "for i, url in key_url_index[:1000]:\n",
    "    if url != 'None':\n",
    "        try:\n",
    "            response = urllib2.urlopen(url)\n",
    "            data_index.append(i)\n",
    "        except:\n",
    "            continue\n",
    "    index += 1\n",
    "    if index%1000 == 0:\n",
    "        print (index)"
   ]
  },
  {
   "cell_type": "code",
   "execution_count": 8,
   "metadata": {},
   "outputs": [],
   "source": [
    "def save_dict(obj, name):\n",
    "    with open('/home/kylecshan/Kaushik/retrieval/' + name + '.pkl', 'wb') as f:\n",
    "        pickle.dump(obj, f, pickle.HIGHEST_PROTOCOL)"
   ]
  },
  {
   "cell_type": "code",
   "execution_count": 9,
   "metadata": {},
   "outputs": [],
   "source": [
    "save_dict(data_test, 'test')\n",
    "save_dict(data_index, 'index')\n"
   ]
  }
 ],
 "metadata": {
  "kernelspec": {
   "display_name": "Python 2",
   "language": "python",
   "name": "python2"
  },
  "language_info": {
   "codemirror_mode": {
    "name": "ipython",
    "version": 2
   },
   "file_extension": ".py",
   "mimetype": "text/x-python",
   "name": "python",
   "nbconvert_exporter": "python",
   "pygments_lexer": "ipython2",
   "version": "2.7.13"
  }
 },
 "nbformat": 4,
 "nbformat_minor": 2
}

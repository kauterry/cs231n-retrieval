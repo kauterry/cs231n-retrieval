{
 "cells": [
  {
   "cell_type": "code",
   "execution_count": 2,
   "metadata": {},
   "outputs": [
    {
     "name": "stdout",
     "output_type": "stream",
     "text": [
      "[[1. 0. 0. 0. 0. 0. 0. 0. 0. 0.]\n",
      " [0. 1. 0. 0. 0. 0. 0. 0. 0. 0.]\n",
      " [0. 0. 1. 0. 0. 0. 0. 0. 0. 0.]\n",
      " [0. 0. 0. 1. 0. 0. 0. 0. 0. 0.]\n",
      " [0. 0. 0. 0. 1. 0. 0. 0. 0. 0.]\n",
      " [0. 0. 0. 0. 0. 1. 0. 0. 0. 0.]\n",
      " [0. 0. 0. 0. 0. 0. 1. 0. 0. 0.]\n",
      " [0. 0. 0. 0. 0. 0. 0. 1. 0. 0.]\n",
      " [0. 0. 0. 0. 0. 0. 0. 0. 1. 0.]\n",
      " [0. 0. 0. 0. 0. 0. 0. 0. 0. 1.]]\n"
     ]
    }
   ],
   "source": [
    "import numpy as np\n",
    "a = np.eye(10)\n",
    "print(a)"
   ]
  },
  {
   "cell_type": "code",
   "execution_count": 3,
   "metadata": {},
   "outputs": [],
   "source": [
    "sub = \"sub.csv\"\n",
    "with open(sub, 'ab') as f:\n",
    "    np.savetxt(f, [['id', 'images']], delimiter = ',',fmt=\"%s\")\n",
    "    for i in range(10):\n",
    "        np.savetxt(f, [[\"Boom\"]], newline = ',', fmt=\"%s\")\n",
    "        dist = a[i][1:][np.newaxis, :]\n",
    "        np.savetxt(f, dist, delimiter = ' ', fmt=\"%s\")"
   ]
  },
  {
   "cell_type": "code",
   "execution_count": 4,
   "metadata": {},
   "outputs": [
    {
     "name": "stdout",
     "output_type": "stream",
     "text": [
      "[['k', 'c']]\n",
      "[['c', 'e']]\n",
      "[['e', 'g']]\n"
     ]
    }
   ],
   "source": [
    "D = np.array([[0, 3,5,6,7], [0, 3,4.5,6.6,7], [0, 3,5,7,8]], dtype = float)\n",
    "I = np.array([[0, 10, 2, 40, 3], [1, 2, 4,5, 7], [2, 4, 6, 34,12]])\n",
    "# data = {10: \"a\", 2: \"b\", 123:\"c\", 234:\"d\", 4:\"e\"}\n",
    "data = [\"a\", \"b\", \"c\", \"d\", \"e\", \"f\", \"g\", 'h', 'i', 'j', 'k']\n",
    "k = 5\n",
    "batch = 3\n",
    "dist_thresh = 6\n",
    "for b in range(batch):\n",
    "    indices = I[b][1:][D[b][1:] < dist_thresh]\n",
    "#     print ([data[indices]])\n",
    "    dist = [[data[ind] for ind in indices]]\n",
    "    print(dist)\n"
   ]
  },
  {
   "cell_type": "code",
   "execution_count": 5,
   "metadata": {},
   "outputs": [],
   "source": [
    "sub = \"sub.csv\"\n",
    "with open(sub, 'ab') as f:\n",
    "    for i in range(10):\n",
    "        np.savetxt(f, [[\"Boom\"]], newline = ',', fmt=\"%s\")\n",
    "        dist = [[data[ind] for ind in indices]]\n",
    "        np.savetxt(f, dist, delimiter = ' ', fmt=\"%s\")"
   ]
  }
 ],
 "metadata": {
  "kernelspec": {
   "display_name": "Python 3",
   "language": "python",
   "name": "python3"
  },
  "language_info": {
   "codemirror_mode": {
    "name": "ipython",
    "version": 3
   },
   "file_extension": ".py",
   "mimetype": "text/x-python",
   "name": "python",
   "nbconvert_exporter": "python",
   "pygments_lexer": "ipython3",
   "version": "3.7.3"
  }
 },
 "nbformat": 4,
 "nbformat_minor": 2
}

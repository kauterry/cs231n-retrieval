{
 "cells": [
  {
   "cell_type": "code",
   "execution_count": null,
   "metadata": {},
   "outputs": [],
   "source": [
    "from PIL import Image\n",
    "import matplotlib.pyplot as plt\n",
    "import numpy as np\n",
    "import pandas\n",
    "import os"
   ]
  },
  {
   "cell_type": "code",
   "execution_count": null,
   "metadata": {},
   "outputs": [],
   "source": [
    "idx_path = '/home/kylecshan/saved/06_01_2019/triplet/delf/delfidx.csv'\n",
    "label_path = '/home/kylecshan/saved/06_01_2019/triplet/delf/delflabel.csv'\n",
    "data_dir = \"/home/kylecshan/data/images224/train_ms2000_v5/\"\n",
    "dir_list = sorted(os.listdir(data_dir + 'test'))\n"
   ]
  },
  {
   "cell_type": "code",
   "execution_count": null,
   "metadata": {},
   "outputs": [],
   "source": [
    "print(dir_list[250])"
   ]
  },
  {
   "cell_type": "code",
   "execution_count": null,
   "metadata": {},
   "outputs": [],
   "source": [
    "idx = pandas.read_csv(idx_path)\n",
    "idx = idx.values[:, :100]\n",
    "\n",
    "label = pandas.read_csv(label_path, header=None)\n",
    "label = label.values[:, :100].astype(int)"
   ]
  },
  {
   "cell_type": "code",
   "execution_count": null,
   "metadata": {},
   "outputs": [],
   "source": [
    "print (label.shape)\n",
    "print (label)"
   ]
  },
  {
   "cell_type": "code",
   "execution_count": null,
   "metadata": {
    "scrolled": false
   },
   "outputs": [],
   "source": [
    "# n = 1000, 3877, 1608, 5213\n",
    "n = 5213\n",
    "M = 6\n",
    "\n",
    "test = idx[n][0]\n",
    "index = idx[n][1].split(\" \")[:M]\n",
    "\n",
    "test_img = Image.open(data_dir + 'test/' + dir_list[label[n][0]] + '/' + test + '.jpg')\n",
    "plt.imshow(test_img)\n",
    "plt.show()\n",
    "\n",
    "for m in range(1, M):\n",
    "    print(m)\n",
    "    index_img = Image.open(data_dir + 'index/' + dir_list[label[n][m]] + '/' + index[m-1] + '.jpg')\n",
    "    plt.imshow(index_img)\n",
    "    plt.show()\n"
   ]
  },
  {
   "cell_type": "code",
   "execution_count": null,
   "metadata": {
    "scrolled": false
   },
   "outputs": [],
   "source": [
    "array = df.values\n",
    "\n",
    "n = np.random.choice(np.arange(array.shape[0]), 1)[0]\n",
    "print (n)\n",
    "M = 10\n",
    "\n",
    "test = array[n][0]\n",
    "index = array[n][1].split(\" \")[:M]\n",
    "\n",
    "test_img = Image.open(data_dir + 'test/all/' + test + '.jpg')\n",
    "plt.imshow(test_img)\n",
    "plt.show()\n",
    "\n",
    "for m in range(M):\n",
    "    index_img = Image.open(data_dir + 'index/all/' + index[m] + '.jpg')\n",
    "    plt.imshow(index_img)\n",
    "    plt.show()\n"
   ]
  },
  {
   "cell_type": "code",
   "execution_count": null,
   "metadata": {
    "scrolled": false
   },
   "outputs": [],
   "source": [
    "\n",
    "N = 100\n",
    "\n",
    "for n in range(N):\n",
    "    idx = np.random.choice(np.arange(array.shape[0]), 1)[0]\n",
    "    test = array[idx][0]\n",
    "    test_img = Image.open(data_dir + 'test/all/' + test + '.jpg')\n",
    "    plt.imshow(test_img)\n",
    "    plt.show()\n",
    "\n"
   ]
  }
 ],
 "metadata": {
  "kernelspec": {
   "display_name": "Python [conda env:root] *",
   "language": "python",
   "name": "conda-root-py"
  },
  "language_info": {
   "codemirror_mode": {
    "name": "ipython",
    "version": 3
   },
   "file_extension": ".py",
   "mimetype": "text/x-python",
   "name": "python",
   "nbconvert_exporter": "python",
   "pygments_lexer": "ipython3",
   "version": "3.7.3"
  }
 },
 "nbformat": 4,
 "nbformat_minor": 2
}

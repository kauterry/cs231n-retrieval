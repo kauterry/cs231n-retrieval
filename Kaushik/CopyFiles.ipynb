{
 "cells": [
  {
   "cell_type": "code",
   "execution_count": 7,
   "metadata": {},
   "outputs": [],
   "source": [
    "import os\n",
    "import shutil"
   ]
  },
  {
   "cell_type": "code",
   "execution_count": 2,
   "metadata": {},
   "outputs": [],
   "source": [
    "test_dir = \"/home/kylecshan/data/test/all/\"\n",
    "index_dir = \"/home/kylecshan/data/index/all/\"\n",
    "\n",
    "test_mock = \"/home/kylecshan/data/test_filtered.csv\"\n",
    "index_mock = \"/home/kylecshan/data/index_filtered.csv\""
   ]
  },
  {
   "cell_type": "code",
   "execution_count": 3,
   "metadata": {},
   "outputs": [
    {
     "name": "stdout",
     "output_type": "stream",
     "text": [
      "Looking for images in test folder...\n",
      "Done with test folder. Looking in index folder...\n",
      "Done with index folder\n"
     ]
    }
   ],
   "source": [
    "# Look in the directory and get list of images\n",
    "print(\"Looking for images in test folder...\")\n",
    "test_images = os.listdir(test_dir)\n",
    "print(\"Done with test folder. Looking in index folder...\")\n",
    "index_images = os.listdir(index_dir)\n",
    "print(\"Done with index folder\")"
   ]
  },
  {
   "cell_type": "code",
   "execution_count": 6,
   "metadata": {},
   "outputs": [
    {
     "name": "stdout",
     "output_type": "stream",
     "text": [
      "['96b64c3ed0fab59d.jpg', '9e23d0ad4e0c795e.jpg', 'da2635e12d9f434f.jpg', '9602b520c52f27c0.jpg', '0c8279521545defb.jpg', '494b24e5c9299592.jpg', 'b02cea400131d458.jpg', 'd58335ad666acc04.jpg', '09b21d473898f89f.jpg', '5fdc2c36ef607a43.jpg']\n"
     ]
    }
   ],
   "source": [
    "index = 10000"
   ]
  },
  {
   "cell_type": "code",
   "execution_count": null,
   "metadata": {},
   "outputs": [],
   "source": []
  },
  {
   "cell_type": "code",
   "execution_count": null,
   "metadata": {},
   "outputs": [],
   "source": []
  },
  {
   "cell_type": "code",
   "execution_count": null,
   "metadata": {},
   "outputs": [],
   "source": []
  },
  {
   "cell_type": "code",
   "execution_count": null,
   "metadata": {},
   "outputs": [],
   "source": []
  },
  {
   "cell_type": "code",
   "execution_count": null,
   "metadata": {},
   "outputs": [],
   "source": []
  },
  {
   "cell_type": "code",
   "execution_count": null,
   "metadata": {},
   "outputs": [],
   "source": []
  },
  {
   "cell_type": "code",
   "execution_count": null,
   "metadata": {},
   "outputs": [],
   "source": []
  },
  {
   "cell_type": "code",
   "execution_count": null,
   "metadata": {},
   "outputs": [],
   "source": []
  },
  {
   "cell_type": "code",
   "execution_count": null,
   "metadata": {},
   "outputs": [],
   "source": []
  }
 ],
 "metadata": {
  "kernelspec": {
   "display_name": "Python [conda env:root] *",
   "language": "python",
   "name": "conda-root-py"
  },
  "language_info": {
   "codemirror_mode": {
    "name": "ipython",
    "version": 3
   },
   "file_extension": ".py",
   "mimetype": "text/x-python",
   "name": "python",
   "nbconvert_exporter": "python",
   "pygments_lexer": "ipython3",
   "version": "3.7.3"
  }
 },
 "nbformat": 4,
 "nbformat_minor": 2
}

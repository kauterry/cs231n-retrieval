{
 "cells": [
  {
   "cell_type": "code",
   "execution_count": null,
   "metadata": {},
   "outputs": [],
   "source": [
    "import faiss\n",
    "import numpy as np\n",
    "import pickle\n"
   ]
  },
  {
   "cell_type": "code",
   "execution_count": null,
   "metadata": {},
   "outputs": [],
   "source": [
    "    \n",
    "# Load data index\n",
    "save_path = '/home/kylecshan/saved/06_01_2019/classification/densenet169/densenet'\n",
    "\n",
    "\n",
    "# Get descriptor matrices\n",
    "index = faiss.read_index(save_path + '.index')\n",
    "test = faiss.read_index(save_path + 'test.index')\n",
    "\n",
    "nb = index.ntotal\n",
    "nq = test.ntotal\n",
    "index_matrix = np.vstack([index.reconstruct(i) for i in range(nb)])\n",
    "test_matrix = np.vstack([test.reconstruct(i) for i in range(nq)])\n"
   ]
  },
  {
   "cell_type": "code",
   "execution_count": null,
   "metadata": {},
   "outputs": [],
   "source": [
    "print (index_matrix.shape)\n",
    "print (test_matrix.shape)"
   ]
  },
  {
   "cell_type": "code",
   "execution_count": null,
   "metadata": {},
   "outputs": [],
   "source": [
    "data_path = save_path + '.txt'\n",
    "\n",
    "with open(data_path, \"rb\") as fp: \n",
    "    data_index, label_index = pickle.load(fp)"
   ]
  },
  {
   "cell_type": "code",
   "execution_count": null,
   "metadata": {},
   "outputs": [],
   "source": [
    "print (len(data_index))\n",
    "print (len(label_index))"
   ]
  },
  {
   "cell_type": "code",
   "execution_count": null,
   "metadata": {},
   "outputs": [],
   "source": [
    "import sys\n",
    "sys.path.insert(0,'/home/kylecshan/Kaushik/retrieval/')\n",
    "from dataloader import load_data\n",
    "\n",
    "dataloaders_dict = load_data(batch_size = 256)\n",
    "label_test = []\n",
    "img_id = []\n",
    "\n",
    "flag = 0\n",
    "for i, (_, labels, image_id) in enumerate(dataloaders_dict['test']):\n",
    "    label_test.extend(labels.tolist())\n",
    "    img_id.extend(list(image_id))\n",
    "    "
   ]
  },
  {
   "cell_type": "code",
   "execution_count": null,
   "metadata": {},
   "outputs": [],
   "source": [
    "print (len(label_test))\n",
    "print (len(img_id))\n",
    "print (img_id[0])"
   ]
  },
  {
   "cell_type": "code",
   "execution_count": null,
   "metadata": {
    "scrolled": true
   },
   "outputs": [],
   "source": [
    "# For each test image, find top K images in the index matrix \n",
    "top = 5\n",
    "iterations = 3\n",
    "write_path = '/home/kylecshan/saved/06_01_2019/classification/densenet169/QE/5_3'\n",
    "\n",
    "sub = write_path + 'idx.csv'\n",
    "class_file = write_path + 'label.csv'\n",
    "\n",
    "with open(sub, 'ab') as f, open(class_file, 'ab') as g:\n",
    "    for i in range(nq):\n",
    "        query_new = test_matrix[i][np.newaxis, :]\n",
    "        for it in range(iterations):\n",
    "            D, I = index.search(query_new, top)\n",
    "            query_new = np.mean(np.vstack((index_matrix[I].squeeze(), query_new)), axis = 0)[np.newaxis, :]\n",
    "            assert query_new.shape[1] == 1664\n",
    "            \n",
    "        D, I = index.search(query_new, 100)\n",
    "        np.savetxt(f, [['id', 'images']], delimiter = ',',fmt=\"%s\")\n",
    "        \n",
    "        print (i)\n",
    "        t_label = label_test[i]\n",
    "        np.savetxt(g, [t_label], newline = ',', fmt=\"%s\")\n",
    "        indices = I.squeeze()\n",
    "        neighbors_labels = [[label_index[ind] for ind in indices]]\n",
    "        np.savetxt(g, neighbors_labels, delimiter = ',', fmt=\"%s\")\n",
    "\n",
    "        np.savetxt(f, [img_id[i]], newline = ',', fmt=\"%s\")\n",
    "        neighbors = [[data_index[ind] for ind in indices]]\n",
    "        np.savetxt(f, neighbors, delimiter = ' ', fmt=\"%s\")\n",
    "\n",
    "\n",
    "\n",
    "\n"
   ]
  },
  {
   "cell_type": "code",
   "execution_count": null,
   "metadata": {
    "scrolled": true
   },
   "outputs": [],
   "source": [
    "# Use different distance metrics\n",
    "\n",
    "from scipy.spatial import distance\n",
    "\n",
    "write_path = '/home/kylecshan/saved/06_04_2019/delfTL_dist/cosine/delfTL'\n",
    "\n",
    "sub = write_path + 'idx.csv'\n",
    "class_file = write_path + 'label.csv'\n",
    "\n",
    "k = 100\n",
    "with open(sub, 'ab') as f, open(class_file, 'ab') as g:\n",
    "    for i in range(nq):\n",
    "        outputs = test_matrix[i][np.newaxis, :]\n",
    "        D = distance.cdist(outputs, index_matrix, 'cosine')\n",
    "        I = np.argsort(D, axis = 1)[:,:k]\n",
    "        np.savetxt(f, [['id', 'images']], delimiter = ',',fmt=\"%s\")\n",
    "        \n",
    "        print (i)\n",
    "        t_label = label_test[i]\n",
    "        np.savetxt(g, [t_label], newline = ',', fmt=\"%s\")\n",
    "        indices = I.squeeze()\n",
    "        neighbors_labels = [[label_index[ind] for ind in indices]]\n",
    "        np.savetxt(g, neighbors_labels, delimiter = ',', fmt=\"%s\")\n",
    "\n",
    "        np.savetxt(f, [img_id[i]], newline = ',', fmt=\"%s\")\n",
    "        neighbors = [[data_index[ind] for ind in indices]]\n",
    "        np.savetxt(f, neighbors, delimiter = ' ', fmt=\"%s\")\n",
    "\n",
    "\n",
    "\n",
    "\n"
   ]
  }
 ],
 "metadata": {
  "kernelspec": {
   "display_name": "Python [conda env:root] *",
   "language": "python",
   "name": "conda-root-py"
  },
  "language_info": {
   "codemirror_mode": {
    "name": "ipython",
    "version": 3
   },
   "file_extension": ".py",
   "mimetype": "text/x-python",
   "name": "python",
   "nbconvert_exporter": "python",
   "pygments_lexer": "ipython3",
   "version": "3.7.3"
  }
 },
 "nbformat": 4,
 "nbformat_minor": 2
}

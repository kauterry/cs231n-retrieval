{
 "cells": [
  {
   "cell_type": "code",
   "execution_count": null,
   "metadata": {},
   "outputs": [],
   "source": [
    "\n",
    "import sys, os, multiprocessing\n",
    "from PIL import Image"
   ]
  },
  {
   "cell_type": "code",
   "execution_count": null,
   "metadata": {},
   "outputs": [],
   "source": [
    "test_orig_dir = \"/home/kylecshan/data/stage2/test/orig/\"\n",
    "test_output_dir = \"/home/kylecshan/data/stage2/test/all/\"\n",
    "index_orig_dir = \"/home/kylecshan/data/stage2/index/orig_size/\"\n",
    "index_output_dir = \"/home/kylecshan/data/stage2/index/all/\""
   ]
  },
  {
   "cell_type": "code",
   "execution_count": null,
   "metadata": {},
   "outputs": [],
   "source": [
    "def resize_and_move(from_path, to_dir):\n",
    "    imgname = os.path.basename(from_path)\n",
    "    to_path = to_dir + imgname\n",
    "    if os.path.exists(to_path):\n",
    "        return\n",
    "    im = Image.open(from_path)\n",
    "    w,h = im.size\n",
    "    mindim = min(w,h)\n",
    "    size = (int(w*224/mindim), int(h*224/mindim))\n",
    "    im = im.resize(size, resample = Image.BILINEAR)\n",
    "    im.save(to_path)\n",
    "    return\n",
    "        "
   ]
  },
  {
   "cell_type": "code",
   "execution_count": null,
   "metadata": {},
   "outputs": [],
   "source": [
    "def do_test(imgname):\n",
    "    resize_and_move(imgname, test_output_dir)\n",
    "    \n",
    "def do_index(imgname):\n",
    "    resize_and_move(imgname, index_output_dir)"
   ]
  },
  {
   "cell_type": "code",
   "execution_count": null,
   "metadata": {},
   "outputs": [],
   "source": [
    "def get_image_names(directory):\n",
    "    names = []\n",
    "    for root, dirs, files in os.walk(directory):\n",
    "        if files:\n",
    "            for file in files:\n",
    "                if file[-3:] == \"jpg\":\n",
    "                    names.append(os.path.join(root, file))\n",
    "    return names"
   ]
  },
  {
   "cell_type": "code",
   "execution_count": null,
   "metadata": {},
   "outputs": [],
   "source": [
    "test_images = get_image_names(test_orig_dir)\n",
    "index_images = get_image_names(index_orig_dir)\n",
    "print(len(test_images))\n",
    "print(len(index_images))"
   ]
  },
  {
   "cell_type": "code",
   "execution_count": null,
   "metadata": {},
   "outputs": [],
   "source": []
  },
  {
   "cell_type": "code",
   "execution_count": null,
   "metadata": {},
   "outputs": [],
   "source": [
    "pool = multiprocessing.Pool(processes=16)"
   ]
  },
  {
   "cell_type": "code",
   "execution_count": null,
   "metadata": {},
   "outputs": [],
   "source": [
    "\n",
    "pool.map(do_test, test_images)"
   ]
  },
  {
   "cell_type": "code",
   "execution_count": null,
   "metadata": {},
   "outputs": [],
   "source": [
    "\n",
    "pool.map(do_index, index_images)"
   ]
  },
  {
   "cell_type": "code",
   "execution_count": null,
   "metadata": {},
   "outputs": [],
   "source": []
  },
  {
   "cell_type": "code",
   "execution_count": null,
   "metadata": {},
   "outputs": [],
   "source": []
  },
  {
   "cell_type": "code",
   "execution_count": null,
   "metadata": {},
   "outputs": [],
   "source": []
  },
  {
   "cell_type": "code",
   "execution_count": null,
   "metadata": {},
   "outputs": [],
   "source": []
  },
  {
   "cell_type": "code",
   "execution_count": null,
   "metadata": {},
   "outputs": [],
   "source": []
  }
 ],
 "metadata": {
  "kernelspec": {
   "display_name": "Python [conda env:root] *",
   "language": "python",
   "name": "conda-root-py"
  },
  "language_info": {
   "codemirror_mode": {
    "name": "ipython",
    "version": 3
   },
   "file_extension": ".py",
   "mimetype": "text/x-python",
   "name": "python",
   "nbconvert_exporter": "python",
   "pygments_lexer": "ipython3",
   "version": "3.7.3"
  }
 },
 "nbformat": 4,
 "nbformat_minor": 2
}

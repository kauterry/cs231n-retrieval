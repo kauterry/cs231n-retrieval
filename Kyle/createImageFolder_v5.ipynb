{
 "cells": [
  {
   "cell_type": "code",
   "execution_count": null,
   "metadata": {},
   "outputs": [],
   "source": [
    "import os\n",
    "import csv\n",
    "import pandas as pd\n",
    "import numpy as np\n",
    "import bisect\n",
    "from PIL import Image\n",
    "import shutil\n",
    "import random\n",
    "import multiprocessing\n",
    "\n",
    "num_classes = 2000"
   ]
  },
  {
   "cell_type": "code",
   "execution_count": null,
   "metadata": {},
   "outputs": [],
   "source": [
    "df = pd.read_csv('/home/kylecshan/data/CSVs/train.csv')"
   ]
  },
  {
   "cell_type": "code",
   "execution_count": null,
   "metadata": {},
   "outputs": [],
   "source": [
    "df = df.sort_values('landmark_id')"
   ]
  },
  {
   "cell_type": "code",
   "execution_count": null,
   "metadata": {},
   "outputs": [],
   "source": [
    "#threshold = 100\n",
    "counts = df.landmark_id.value_counts()\n",
    "counts = pd.DataFrame(counts)"
   ]
  },
  {
   "cell_type": "code",
   "execution_count": null,
   "metadata": {},
   "outputs": [],
   "source": [
    "#threshold_cts = counts.loc[counts.landmark_id >= threshold, :]\n",
    "#threshold_cts.columns = ['count']\n",
    "#threshold_cts\n",
    "threshold_cts = counts.iloc[:num_classes,:]\n",
    "threshold_cts.columns = ['count']\n",
    "threshold_cts.shape"
   ]
  },
  {
   "cell_type": "code",
   "execution_count": null,
   "metadata": {},
   "outputs": [],
   "source": [
    "def mkdir_if_not_exist(path):\n",
    "    if not os.path.exists(path):\n",
    "        os.mkdir(path)"
   ]
  },
  {
   "cell_type": "code",
   "execution_count": null,
   "metadata": {},
   "outputs": [],
   "source": [
    "base_dir = '/home/kylecshan/data/images224/train_ms2000_v5/'\n",
    "imgs_dir = '/home/kylecshan/data/images224/all/'\n",
    "\n",
    "mkdir_if_not_exist(base_dir)\n",
    "mkdir_if_not_exist(base_dir + 'train/')\n",
    "mkdir_if_not_exist(base_dir + 'val/')\n",
    "mkdir_if_not_exist(base_dir + 'index/')\n",
    "mkdir_if_not_exist(base_dir + 'query/')"
   ]
  },
  {
   "cell_type": "code",
   "execution_count": null,
   "metadata": {},
   "outputs": [],
   "source": [
    "landmark_list = []\n",
    "for row in threshold_cts.itertuples():\n",
    "    landmark, count = row.Index, row.count\n",
    "    start = df.landmark_id.searchsorted(landmark, side='left')\n",
    "    end = df.landmark_id.searchsorted(landmark, side='right')\n",
    "    \n",
    "    # Randomly shuffle indexes for imgs of this landmark\n",
    "    np.random.seed(321)\n",
    "    idx_shuffle = np.random.permutation(range(start, end))\n",
    "    border = 24 + (count // 6)\n",
    "    num_to_copy = border + (count//24)\n",
    "    landmark_list.append((landmark, df.id.iloc[idx_shuffle].values.tolist(), num_to_copy, border))\n",
    "    "
   ]
  },
  {
   "cell_type": "code",
   "execution_count": null,
   "metadata": {},
   "outputs": [],
   "source": [
    "[x for x in landmark_list if x[0] == 171683]"
   ]
  },
  {
   "cell_type": "code",
   "execution_count": null,
   "metadata": {},
   "outputs": [],
   "source": [
    "def copy_landmark(row):\n",
    "    landmark, imgnames, num_to_copy, border = row\n",
    "    num_copied = 0;\n",
    "    num_seen = 0;\n",
    "    \n",
    "    train_dir = base_dir + 'train/' + str(landmark) + '/'\n",
    "    val_dir = base_dir + 'val/' + str(landmark) + '/'\n",
    "    index_dir = base_dir + 'index/' + str(landmark) + '/'\n",
    "    query_dir = base_dir + 'query/' + str(landmark) + '/'\n",
    "    for d in [train_dir, val_dir, index_dir, query_dir]:\n",
    "        mkdir_if_not_exist(d)\n",
    "        \n",
    "    for imgname in imgnames:\n",
    "        img_path = imgs_dir + imgname + '.jpg'\n",
    "        try:\n",
    "            im = Image.open(img_path)\n",
    "            w,h = im.size\n",
    "            if num_copied < 4:\n",
    "                shutil.copy(img_path, query_dir)\n",
    "            elif num_copied < 24:\n",
    "                shutil.copy(img_path, index_dir)\n",
    "            elif num_copied < border:\n",
    "                shutil.copy(img_path, train_dir)\n",
    "            else:\n",
    "                shutil.copy(img_path, val_dir)\n",
    "            num_copied += 1\n",
    "        except:\n",
    "            pass # couldn't find image, oh well\n",
    "        if num_copied >= num_to_copy:\n",
    "            break\n",
    "        \n",
    "    print('landmark %d: copied %d out of %d total' % \n",
    "          (landmark, num_copied, len(imgnames)))\n",
    "    return num_copied"
   ]
  },
  {
   "cell_type": "code",
   "execution_count": null,
   "metadata": {},
   "outputs": [],
   "source": [
    "copy_landmark(landmark_list[6])"
   ]
  },
  {
   "cell_type": "code",
   "execution_count": null,
   "metadata": {},
   "outputs": [],
   "source": [
    "pool = multiprocessing.Pool(processes=16)"
   ]
  },
  {
   "cell_type": "code",
   "execution_count": null,
   "metadata": {},
   "outputs": [],
   "source": [
    "pool.map(copy_landmark, landmark_list)"
   ]
  },
  {
   "cell_type": "code",
   "execution_count": null,
   "metadata": {},
   "outputs": [],
   "source": []
  },
  {
   "cell_type": "code",
   "execution_count": null,
   "metadata": {},
   "outputs": [],
   "source": []
  },
  {
   "cell_type": "code",
   "execution_count": null,
   "metadata": {},
   "outputs": [],
   "source": [
    "np.sum(counts.landmark_id < 10)"
   ]
  },
  {
   "cell_type": "code",
   "execution_count": null,
   "metadata": {},
   "outputs": [],
   "source": [
    "len(counts)"
   ]
  },
  {
   "cell_type": "code",
   "execution_count": null,
   "metadata": {},
   "outputs": [],
   "source": []
  }
 ],
 "metadata": {
  "kernelspec": {
   "display_name": "Python [conda env:root] *",
   "language": "python",
   "name": "conda-root-py"
  },
  "language_info": {
   "codemirror_mode": {
    "name": "ipython",
    "version": 3
   },
   "file_extension": ".py",
   "mimetype": "text/x-python",
   "name": "python",
   "nbconvert_exporter": "python",
   "pygments_lexer": "ipython3",
   "version": "3.7.3"
  }
 },
 "nbformat": 4,
 "nbformat_minor": 2
}

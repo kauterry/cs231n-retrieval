{
 "cells": [
  {
   "cell_type": "code",
   "execution_count": null,
   "metadata": {},
   "outputs": [],
   "source": [
    "#import os\n",
    "#import csv\n",
    "#import numpy as np\n",
    "#import pandas as pd\n",
    "#import bisect\n",
    "\n",
    "No longer needed"
   ]
  },
  {
   "cell_type": "code",
   "execution_count": null,
   "metadata": {},
   "outputs": [],
   "source": [
    "train_ms = os.listdir('/home/kylecshan/data/images/train_ms/')\n",
    "train_ms = [x[:16] for x in train_ms]\n",
    "train_ms.sort()"
   ]
  },
  {
   "cell_type": "code",
   "execution_count": null,
   "metadata": {},
   "outputs": [],
   "source": [
    "df = pd.DataFrame({'img':pd.Series(['' for x in range(100000)], dtype='str'),\n",
    "                   'landmark':pd.Series([0 for x in range(100000)], dtype='int')})\n",
    "\n",
    "print(df)"
   ]
  },
  {
   "cell_type": "code",
   "execution_count": null,
   "metadata": {},
   "outputs": [],
   "source": [
    "def sorted_in(a, x):\n",
    "    'Find if x is in sorted list a'\n",
    "    i = bisect.bisect_left(a, x)\n",
    "    if i != len(a) and a[i] == x:\n",
    "        return True\n",
    "    return False\n"
   ]
  },
  {
   "cell_type": "code",
   "execution_count": null,
   "metadata": {},
   "outputs": [],
   "source": [
    "with open('/home/kylecshan/data/train.csv') as csvfile:\n",
    "    reader = csv.reader(csvfile)\n",
    "    next(reader) # skip header\n",
    "    i=0\n",
    "    j=0\n",
    "    for row in reader:\n",
    "        if sorted_in(train_ms, row[0]): #row[0] in train_ms:\n",
    "            df.loc[j,:] = [row[0], row[2]]\n",
    "            j += 1\n",
    "            \n",
    "        i += 1\n",
    "        if i % 10000 == 0:\n",
    "            print('looked at %d images, found %d' % (i,j))\n",
    "        if j >= 100000:\n",
    "            break\n",
    "print('done, looked at %d imgnames and found %d' % (i,j))"
   ]
  },
  {
   "cell_type": "code",
   "execution_count": null,
   "metadata": {},
   "outputs": [],
   "source": [
    "df = df[:j]\n",
    "np.any(df.duplicated())"
   ]
  },
  {
   "cell_type": "code",
   "execution_count": null,
   "metadata": {},
   "outputs": [],
   "source": [
    "df.to_csv(r'/home/kylecshan/data/train_ms.csv')"
   ]
  },
  {
   "cell_type": "code",
   "execution_count": null,
   "metadata": {},
   "outputs": [],
   "source": []
  },
  {
   "cell_type": "code",
   "execution_count": null,
   "metadata": {},
   "outputs": [],
   "source": []
  }
 ],
 "metadata": {
  "kernelspec": {
   "display_name": "Python [conda env:root] *",
   "language": "python",
   "name": "conda-root-py"
  },
  "language_info": {
   "codemirror_mode": {
    "name": "ipython",
    "version": 3
   },
   "file_extension": ".py",
   "mimetype": "text/x-python",
   "name": "python",
   "nbconvert_exporter": "python",
   "pygments_lexer": "ipython3",
   "version": "3.7.3"
  }
 },
 "nbformat": 4,
 "nbformat_minor": 2
}

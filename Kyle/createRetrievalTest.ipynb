{
 "cells": [
  {
   "cell_type": "code",
   "execution_count": null,
   "metadata": {},
   "outputs": [],
   "source": [
    "import os\n",
    "import csv\n",
    "import pandas as pd\n",
    "import matplotlib\n",
    "import matplotlib.pyplot as plt\n",
    "import numpy as np\n",
    "import bisect\n",
    "from PIL import Image\n",
    "import shutil\n",
    "import random\n",
    "\n",
    "examples_per_class = 50\n",
    "num_classes = 2000"
   ]
  },
  {
   "cell_type": "code",
   "execution_count": null,
   "metadata": {},
   "outputs": [],
   "source": [
    "df = pd.read_csv('/home/kylecshan/data/train.csv')"
   ]
  },
  {
   "cell_type": "code",
   "execution_count": null,
   "metadata": {},
   "outputs": [],
   "source": [
    "df = df.sort_values('landmark_id')"
   ]
  },
  {
   "cell_type": "code",
   "execution_count": null,
   "metadata": {},
   "outputs": [],
   "source": [
    "#threshold = 100\n",
    "counts = df.landmark_id.value_counts()\n",
    "counts = pd.DataFrame(counts)"
   ]
  },
  {
   "cell_type": "code",
   "execution_count": null,
   "metadata": {},
   "outputs": [],
   "source": [
    "#threshold_cts = counts.loc[counts.landmark_id >= threshold, :]\n",
    "#threshold_cts.columns = ['count']\n",
    "#threshold_cts\n",
    "threshold_cts = counts.iloc[:num_classes,:]\n",
    "threshold_cts.columns = ['count']\n",
    "threshold_cts.shape"
   ]
  },
  {
   "cell_type": "code",
   "execution_count": null,
   "metadata": {},
   "outputs": [],
   "source": [
    "def mkdir_if_not_exist(path):\n",
    "    if not os.path.exists(path):\n",
    "        os.mkdir(path)"
   ]
  },
  {
   "cell_type": "code",
   "execution_count": null,
   "metadata": {},
   "outputs": [],
   "source": [
    "i = 0\n",
    "base_dir = '/home/kylecshan/data/images224/train_ms2000_v4/'\n",
    "imgs_dir = '/home/kylecshan/data/images224/all/'\n",
    "trainvalindex = (0.7, 0.9) # boundary points\n",
    "problems = []\n",
    "\n",
    "mkdir_if_not_exist(base_dir)\n",
    "mkdir_if_not_exist(base_dir + 'train/')\n",
    "mkdir_if_not_exist(base_dir + 'val/')\n",
    "mkdir_if_not_exist(base_dir + 'index/')\n",
    "\n",
    "for row in threshold_cts.itertuples():\n",
    "    i += 1\n",
    "    if i <= 0: # to resume from previous\n",
    "        continue\n",
    "    \n",
    "    # Find indexes for this landmark\n",
    "    landmark, count = row.Index, row.count\n",
    "    start = df.landmark_id.searchsorted(landmark, side='left')\n",
    "    end = df.landmark_id.searchsorted(landmark, side='right')\n",
    "    \n",
    "    # Randomly shuffle indexes for imgs of this landmark\n",
    "    np.random.seed(321)\n",
    "    idx_shuffle = np.random.permutation(range(start, end))\n",
    "    \n",
    "    # Create folder\n",
    "    train_dir = base_dir + 'train/' + str(landmark) + '/'\n",
    "    val_dir = base_dir + 'val/' + str(landmark) + '/'\n",
    "    index_dir = base_dir + 'index/' + str(landmark) + '/'\n",
    "    for d in [train_dir, val_dir, index_dir]:\n",
    "        mkdir_if_not_exist(d)\n",
    "    \n",
    "    num_to_copy = count // 6 #examples_per_class \n",
    "    \n",
    "    # Copy files over\n",
    "    num_copied = 0;\n",
    "    num_seen = 0;\n",
    "    while num_copied < num_to_copy and num_seen < count:\n",
    "        imgname = df.id.iloc[idx_shuffle[num_seen]]\n",
    "        img_path = imgs_dir + imgname + '.jpg'\n",
    "        try:\n",
    "            im = Image.open(img_path)\n",
    "            w,h = im.size\n",
    "            if w >= 128 and h >= 128:\n",
    "                if num_copied < num_to_copy * trainvaltest[0]:\n",
    "                    shutil.copy(img_path, train_dir)\n",
    "                elif num_copied < num_to_copy * trainvaltest[1]:\n",
    "                    shutil.copy(img_path, val_dir)\n",
    "                else:\n",
    "                    shutil.copy(img_path, index_dir)\n",
    "                num_copied += 1\n",
    "        except:\n",
    "            pass # couldn't find image, oh well\n",
    "        num_seen += 1\n",
    "        \n",
    "    print('landmark %d (%d / %d): copied %d out of %d total' % \n",
    "          (landmark, i, threshold_cts.size, num_copied, count))\n",
    "    if num_copied < num_to_copy:\n",
    "        problems.append(landmark)\n",
    "    #if i > 0:\n",
    "    #    break"
   ]
  },
  {
   "cell_type": "code",
   "execution_count": null,
   "metadata": {},
   "outputs": [],
   "source": [
    "problems"
   ]
  },
  {
   "cell_type": "code",
   "execution_count": null,
   "metadata": {},
   "outputs": [],
   "source": [
    "df[start:(start+10)]"
   ]
  },
  {
   "cell_type": "code",
   "execution_count": null,
   "metadata": {},
   "outputs": [],
   "source": [
    "idx_shuffle"
   ]
  },
  {
   "cell_type": "code",
   "execution_count": null,
   "metadata": {},
   "outputs": [],
   "source": [
    "plt.plot(range(203094), counts)\n",
    "plt.yscale('log')\n",
    "plt.xscale('log')\n",
    "plt.xlabel('Sorted Classes')\n",
    "plt.ylabel('Count')\n",
    "plt.title('Number of Examples per Class')"
   ]
  },
  {
   "cell_type": "code",
   "execution_count": null,
   "metadata": {},
   "outputs": [],
   "source": [
    "np.sum(counts.landmark_id < 10)"
   ]
  },
  {
   "cell_type": "code",
   "execution_count": null,
   "metadata": {},
   "outputs": [],
   "source": [
    "len(counts)"
   ]
  },
  {
   "cell_type": "code",
   "execution_count": null,
   "metadata": {},
   "outputs": [],
   "source": []
  }
 ],
 "metadata": {
  "kernelspec": {
   "display_name": "Python [conda env:root] *",
   "language": "python",
   "name": "conda-root-py"
  },
  "language_info": {
   "codemirror_mode": {
    "name": "ipython",
    "version": 3
   },
   "file_extension": ".py",
   "mimetype": "text/x-python",
   "name": "python",
   "nbconvert_exporter": "python",
   "pygments_lexer": "ipython3",
   "version": "3.7.3"
  }
 },
 "nbformat": 4,
 "nbformat_minor": 2
}

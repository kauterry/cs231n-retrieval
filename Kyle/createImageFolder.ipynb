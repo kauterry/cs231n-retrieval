{
 "cells": [
  {
   "cell_type": "code",
   "execution_count": 1,
   "metadata": {},
   "outputs": [],
   "source": [
    "import os\n",
    "import csv\n",
    "import pandas as pd\n",
    "import matplotlib\n",
    "import matplotlib.pyplot as plt\n",
    "import numpy as np\n",
    "import bisect\n",
    "from PIL import Image\n",
    "import shutil\n",
    "import random\n",
    "\n",
    "num_classes = 2000"
   ]
  },
  {
   "cell_type": "code",
   "execution_count": 2,
   "metadata": {},
   "outputs": [],
   "source": [
    "df = pd.read_csv('/home/kylecshan/data/train.csv')"
   ]
  },
  {
   "cell_type": "code",
   "execution_count": 3,
   "metadata": {},
   "outputs": [],
   "source": [
    "df = df.sort_values('landmark_id')"
   ]
  },
  {
   "cell_type": "code",
   "execution_count": 4,
   "metadata": {},
   "outputs": [],
   "source": [
    "#threshold = 100\n",
    "counts = df.landmark_id.value_counts()\n",
    "counts = pd.DataFrame(counts)"
   ]
  },
  {
   "cell_type": "code",
   "execution_count": 5,
   "metadata": {},
   "outputs": [
    {
     "data": {
      "text/plain": [
       "(2000, 1)"
      ]
     },
     "execution_count": 5,
     "metadata": {},
     "output_type": "execute_result"
    }
   ],
   "source": [
    "#threshold_cts = counts.loc[counts.landmark_id >= threshold, :]\n",
    "#threshold_cts.columns = ['count']\n",
    "#threshold_cts\n",
    "threshold_cts = counts.iloc[:num_classes,:]\n",
    "threshold_cts.columns = ['count']\n",
    "threshold_cts.shape"
   ]
  },
  {
   "cell_type": "code",
   "execution_count": 6,
   "metadata": {},
   "outputs": [],
   "source": [
    "def mkdir_if_not_exist(path):\n",
    "    if not os.path.exists(path):\n",
    "        os.mkdir(path)"
   ]
  },
  {
   "cell_type": "code",
   "execution_count": null,
   "metadata": {},
   "outputs": [],
   "source": [
    "def copy_landmark(landmark, start, end, count, df):\n",
    "    \n",
    "    # Randomly shuffle indexes for imgs of this landmark\n",
    "    np.random.seed(321)\n",
    "    idx_shuffle = np.random.permutation(range(start, end))\n",
    "    \n",
    "    # Create folder\n",
    "    train_dir = base_dir + 'train/' + str(landmark) + '/'\n",
    "    val_dir = base_dir + 'val/' + str(landmark) + '/'\n",
    "    index_dir = base_dir + 'index/' + str(landmark) + '/'\n",
    "    for d in [train_dir, val_dir, index_dir]:\n",
    "        mkdir_if_not_exist(d)\n",
    "    \n",
    "    num_to_copy = 24 + (count // 6) #examples_per_class \n",
    "    \n",
    "    # Copy files over\n",
    "    num_copied = 0;\n",
    "    num_seen = 0;\n",
    "    while num_copied < num_to_copy and num_seen < count:\n",
    "        imgname = df.id.iloc[idx_shuffle[num_seen]]\n",
    "        img_path = imgs_dir + imgname + '.jpg'\n",
    "        try:\n",
    "            im = Image.open(img_path)\n",
    "            w,h = im.size\n",
    "            if num_copied < 4:\n",
    "                shutil.copy(img_path, val_dir)\n",
    "            elif num_copied < 24:\n",
    "                shutil.copy(img_path, val_dir)\n",
    "            else:\n",
    "                shutil.copy(img_path, index_dir)\n",
    "            num_copied += 1\n",
    "        except:\n",
    "            pass # couldn't find image, oh well\n",
    "        num_seen += 1\n",
    "        \n",
    "    print('landmark %d (%d / %d): copied %d out of %d total' % \n",
    "          (landmark, i, threshold_cts.size, num_copied, count))"
   ]
  },
  {
   "cell_type": "code",
   "execution_count": null,
   "metadata": {},
   "outputs": [],
   "source": [
    "i = 0\n",
    "base_dir = '/home/kylecshan/data/images224/train_ms2000_v5/'\n",
    "imgs_dir = '/home/kylecshan/data/images224/all/'\n",
    "trainvalindex = (0.7, 0.9) # boundary points\n",
    "\n",
    "mkdir_if_not_exist(base_dir)\n",
    "mkdir_if_not_exist(base_dir + 'train/')\n",
    "mkdir_if_not_exist(base_dir + 'val/')\n",
    "mkdir_if_not_exist(base_dir + 'index/')\n",
    "\n",
    "for row in threshold_cts.itertuples():\n",
    "    i += 1\n",
    "    if i <= 0: # to resume from previous\n",
    "        continue\n",
    "    \n",
    "    # Find indexes for this landmark\n",
    "    landmark, count = row.Index, row.count\n",
    "    start = df.landmark_id.searchsorted(landmark, side='left')\n",
    "    end = df.landmark_id.searchsorted(landmark, side='right')\n",
    "    \n",
    "    # Randomly shuffle indexes for imgs of this landmark\n",
    "    np.random.seed(321)\n",
    "    idx_shuffle = np.random.permutation(range(start, end))\n",
    "    \n",
    "    # Create folder\n",
    "    train_dir = base_dir + 'train/' + str(landmark) + '/'\n",
    "    val_dir = base_dir + 'val/' + str(landmark) + '/'\n",
    "    index_dir = base_dir + 'index/' + str(landmark) + '/'\n",
    "    for d in [train_dir, val_dir, index_dir]:\n",
    "        mkdir_if_not_exist(d)\n",
    "    \n",
    "    num_to_copy = count // 6 #examples_per_class \n",
    "    \n",
    "    # Copy files over\n",
    "    num_copied = 0;\n",
    "    num_seen = 0;\n",
    "    while num_copied < num_to_copy and num_seen < count:\n",
    "        imgname = df.id.iloc[idx_shuffle[num_seen]]\n",
    "        img_path = imgs_dir + imgname + '.jpg'\n",
    "        try:\n",
    "            im = Image.open(img_path)\n",
    "            w,h = im.size\n",
    "            if w >= 128 and h >= 128:\n",
    "                if num_copied < num_to_copy * trainvaltest[0]:\n",
    "                    shutil.copy(img_path, train_dir)\n",
    "                elif num_copied < num_to_copy * trainvaltest[1]:\n",
    "                    shutil.copy(img_path, val_dir)\n",
    "                else:\n",
    "                    shutil.copy(img_path, index_dir)\n",
    "                num_copied += 1\n",
    "        except:\n",
    "            pass # couldn't find image, oh well\n",
    "        num_seen += 1\n",
    "        \n",
    "    print('landmark %d (%d / %d): copied %d out of %d total' % \n",
    "          (landmark, i, threshold_cts.size, num_copied, count))\n",
    "    #if i > 0:\n",
    "    #    break"
   ]
  },
  {
   "cell_type": "code",
   "execution_count": 20,
   "metadata": {},
   "outputs": [
    {
     "data": {
      "text/plain": [
       "[]"
      ]
     },
     "execution_count": 20,
     "metadata": {},
     "output_type": "execute_result"
    }
   ],
   "source": [
    "problems"
   ]
  },
  {
   "cell_type": "code",
   "execution_count": 19,
   "metadata": {},
   "outputs": [
    {
     "data": {
      "text/html": [
       "<div>\n",
       "<style scoped>\n",
       "    .dataframe tbody tr th:only-of-type {\n",
       "        vertical-align: middle;\n",
       "    }\n",
       "\n",
       "    .dataframe tbody tr th {\n",
       "        vertical-align: top;\n",
       "    }\n",
       "\n",
       "    .dataframe thead th {\n",
       "        text-align: right;\n",
       "    }\n",
       "</style>\n",
       "<table border=\"1\" class=\"dataframe\">\n",
       "  <thead>\n",
       "    <tr style=\"text-align: right;\">\n",
       "      <th></th>\n",
       "      <th>id</th>\n",
       "      <th>url</th>\n",
       "      <th>landmark_id</th>\n",
       "    </tr>\n",
       "  </thead>\n",
       "  <tbody>\n",
       "    <tr>\n",
       "      <th>1318564</th>\n",
       "      <td>a11ad805fe8ecf26</td>\n",
       "      <td>https://upload.wikimedia.org/wikipedia/commons...</td>\n",
       "      <td>150660</td>\n",
       "    </tr>\n",
       "    <tr>\n",
       "      <th>512827</th>\n",
       "      <td>4be1dc2098cf4734</td>\n",
       "      <td>http://upload.wikimedia.org/wikipedia/commons/...</td>\n",
       "      <td>150660</td>\n",
       "    </tr>\n",
       "    <tr>\n",
       "      <th>1191516</th>\n",
       "      <td>36430f86e9c40413</td>\n",
       "      <td>https://upload.wikimedia.org/wikipedia/commons...</td>\n",
       "      <td>150660</td>\n",
       "    </tr>\n",
       "    <tr>\n",
       "      <th>1835355</th>\n",
       "      <td>1b9c2502a6b0ccdf</td>\n",
       "      <td>https://upload.wikimedia.org/wikipedia/commons...</td>\n",
       "      <td>150660</td>\n",
       "    </tr>\n",
       "    <tr>\n",
       "      <th>3740578</th>\n",
       "      <td>1724a121703e70c4</td>\n",
       "      <td>https://upload.wikimedia.org/wikipedia/commons...</td>\n",
       "      <td>150660</td>\n",
       "    </tr>\n",
       "    <tr>\n",
       "      <th>3923393</th>\n",
       "      <td>e50c1aaf93aa1628</td>\n",
       "      <td>https://upload.wikimedia.org/wikipedia/commons...</td>\n",
       "      <td>150660</td>\n",
       "    </tr>\n",
       "    <tr>\n",
       "      <th>2147877</th>\n",
       "      <td>0cf3759da1b55906</td>\n",
       "      <td>https://upload.wikimedia.org/wikipedia/commons...</td>\n",
       "      <td>150660</td>\n",
       "    </tr>\n",
       "    <tr>\n",
       "      <th>2643106</th>\n",
       "      <td>fe5d3e12ceae8b88</td>\n",
       "      <td>https://upload.wikimedia.org/wikipedia/commons...</td>\n",
       "      <td>150660</td>\n",
       "    </tr>\n",
       "    <tr>\n",
       "      <th>992258</th>\n",
       "      <td>dc264f5594d17143</td>\n",
       "      <td>https://upload.wikimedia.org/wikipedia/commons...</td>\n",
       "      <td>150660</td>\n",
       "    </tr>\n",
       "    <tr>\n",
       "      <th>1015205</th>\n",
       "      <td>27d960f7df3aa394</td>\n",
       "      <td>https://upload.wikimedia.org/wikipedia/commons...</td>\n",
       "      <td>150660</td>\n",
       "    </tr>\n",
       "  </tbody>\n",
       "</table>\n",
       "</div>"
      ],
      "text/plain": [
       "                       id                                                url  \\\n",
       "1318564  a11ad805fe8ecf26  https://upload.wikimedia.org/wikipedia/commons...   \n",
       "512827   4be1dc2098cf4734  http://upload.wikimedia.org/wikipedia/commons/...   \n",
       "1191516  36430f86e9c40413  https://upload.wikimedia.org/wikipedia/commons...   \n",
       "1835355  1b9c2502a6b0ccdf  https://upload.wikimedia.org/wikipedia/commons...   \n",
       "3740578  1724a121703e70c4  https://upload.wikimedia.org/wikipedia/commons...   \n",
       "3923393  e50c1aaf93aa1628  https://upload.wikimedia.org/wikipedia/commons...   \n",
       "2147877  0cf3759da1b55906  https://upload.wikimedia.org/wikipedia/commons...   \n",
       "2643106  fe5d3e12ceae8b88  https://upload.wikimedia.org/wikipedia/commons...   \n",
       "992258   dc264f5594d17143  https://upload.wikimedia.org/wikipedia/commons...   \n",
       "1015205  27d960f7df3aa394  https://upload.wikimedia.org/wikipedia/commons...   \n",
       "\n",
       "         landmark_id  \n",
       "1318564       150660  \n",
       "512827        150660  \n",
       "1191516       150660  \n",
       "1835355       150660  \n",
       "3740578       150660  \n",
       "3923393       150660  \n",
       "2147877       150660  \n",
       "2643106       150660  \n",
       "992258        150660  \n",
       "1015205       150660  "
      ]
     },
     "execution_count": 19,
     "metadata": {},
     "output_type": "execute_result"
    }
   ],
   "source": [
    "df[start:(start+10)]"
   ]
  },
  {
   "cell_type": "code",
   "execution_count": 15,
   "metadata": {},
   "outputs": [
    {
     "data": {
      "text/plain": [
       "array([2827443, 2833920, 2829081, ..., 2829713, 2828004, 2830466])"
      ]
     },
     "execution_count": 15,
     "metadata": {},
     "output_type": "execute_result"
    }
   ],
   "source": [
    "idx_shuffle"
   ]
  },
  {
   "cell_type": "code",
   "execution_count": 12,
   "metadata": {},
   "outputs": [
    {
     "data": {
      "text/plain": [
       "Text(0.5, 1.0, 'Number of Examples per Class')"
      ]
     },
     "execution_count": 12,
     "metadata": {},
     "output_type": "execute_result"
    },
    {
     "data": {
      "image/png": "[encoded data removed]",
      "text/plain": [
       "<Figure size 432x288 with 1 Axes>"
      ]
     },
     "metadata": {
      "needs_background": "light"
     },
     "output_type": "display_data"
    }
   ],
   "source": [
    "plt.plot(range(203094), counts)\n",
    "plt.yscale('log')\n",
    "plt.xscale('log')\n",
    "plt.xlabel('Sorted Classes')\n",
    "plt.ylabel('Count')\n",
    "plt.title('Number of Examples per Class')"
   ]
  },
  {
   "cell_type": "code",
   "execution_count": 11,
   "metadata": {},
   "outputs": [
    {
     "data": {
      "text/plain": [
       "110354"
      ]
     },
     "execution_count": 11,
     "metadata": {},
     "output_type": "execute_result"
    }
   ],
   "source": [
    "np.sum(counts.landmark_id < 10)"
   ]
  },
  {
   "cell_type": "code",
   "execution_count": 13,
   "metadata": {},
   "outputs": [
    {
     "data": {
      "text/plain": [
       "203094"
      ]
     },
     "execution_count": 13,
     "metadata": {},
     "output_type": "execute_result"
    }
   ],
   "source": [
    "len(counts)"
   ]
  },
  {
   "cell_type": "code",
   "execution_count": null,
   "metadata": {},
   "outputs": [],
   "source": []
  }
 ],
 "metadata": {
  "kernelspec": {
   "display_name": "Python [conda env:root] *",
   "language": "python",
   "name": "conda-root-py"
  },
  "language_info": {
   "codemirror_mode": {
    "name": "ipython",
    "version": 3
   },
   "file_extension": ".py",
   "mimetype": "text/x-python",
   "name": "python",
   "nbconvert_exporter": "python",
   "pygments_lexer": "ipython3",
   "version": "3.7.3"
  }
 },
 "nbformat": 4,
 "nbformat_minor": 2
}

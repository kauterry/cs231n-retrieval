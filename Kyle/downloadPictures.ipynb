{
 "cells": [
  {
   "cell_type": "code",
   "execution_count": null,
   "metadata": {},
   "outputs": [],
   "source": [
    "\n",
    "import sys, os, multiprocessing, urllib2, csv\n",
    "from PIL import Image\n",
    "from StringIO import StringIO"
   ]
  },
  {
   "cell_type": "code",
   "execution_count": null,
   "metadata": {},
   "outputs": [],
   "source": [
    "index_file = \"/home/kylecshan/data/index.csv\"\n",
    "index_dir = \"/home/kylecshan/data/index/all/\"\n",
    "test_file = \"/home/kylecshan/data/test.csv\"\n",
    "test_dir = \"/home/kylecshan/data/test/all/\""
   ]
  },
  {
   "cell_type": "code",
   "execution_count": null,
   "metadata": {},
   "outputs": [],
   "source": [
    "#!/usr/bin/python\n",
    "\n",
    "# Note to Kagglers: This script will not run directly in Kaggle kernels. You\n",
    "# need to download it and run it on your local machine.\n",
    "\n",
    "# Downloads images from the Google Landmarks dataset using multiple threads.\n",
    "# Images that already exist will not be downloaded again, so the script can\n",
    "# resume a partially completed download. All images will be saved in the JPG\n",
    "# format with 90% compression quality.\n",
    "\n",
    "def ParseData(data_file):\n",
    "    csvfile = open(data_file, 'r')\n",
    "    csvreader = csv.reader(csvfile)\n",
    "    key_url_list = [line[:2] for line in csvreader]\n",
    "    return key_url_list[1:]  # Chop off header\n",
    "\n",
    "\n"
   ]
  },
  {
   "cell_type": "code",
   "execution_count": null,
   "metadata": {},
   "outputs": [],
   "source": [
    "def DownloadImage(key_url, out_dir):\n",
    "    (key, url) = key_url\n",
    "    filename = os.path.join(out_dir, '%s.jpg' % key)\n",
    "\n",
    "    if os.path.exists(filename):\n",
    "        #print('Image %s already exists. Skipping download.' % filename)\n",
    "        return\n",
    "    \n",
    "    try:\n",
    "        response = urllib2.urlopen(url)\n",
    "        image_data = response.read()\n",
    "    except:\n",
    "        #print('Warning: Could not download image %s from %s' % (key, url))\n",
    "        return\n",
    "    \n",
    "    try:\n",
    "        pil_image = Image.open(StringIO(image_data))\n",
    "    except:\n",
    "        print('Warning: Failed to parse image %s' % key)\n",
    "        return\n",
    "    \n",
    "\n",
    "    try:\n",
    "        pil_image_rgb = pil_image.convert('RGB')\n",
    "        w,h = pil_image_rgb.size\n",
    "        mindim = min(w,h)\n",
    "        size = (int(w*224/mindim), int(h*224/mindim))\n",
    "        pil_image_rgb = pil_image_rgb.resize(size, resample = Image.BILINEAR)\n",
    "    except:\n",
    "        print('Warning: Failed to convert image %s to RGB' % key)\n",
    "        return\n",
    "    \n",
    "\n",
    "    try:\n",
    "        pil_image_rgb.save(filename, format='JPEG', quality=90)\n",
    "    except:\n",
    "        print('Warning: Failed to save image %s' % filename)\n",
    "        return\n",
    "    \n",
    "    return 0\n"
   ]
  },
  {
   "cell_type": "code",
   "execution_count": null,
   "metadata": {},
   "outputs": [],
   "source": [
    "def Run():\n",
    "#     if len(sys.argv) != 3:\n",
    "#         print('Syntax: %s <data_file.csv> <output_dir/>' % sys.argv[0])\n",
    "#         sys.exit(0)\n",
    "#     (data_file, out_dir) = sys.argv[1:]\n",
    "\n",
    "#     if not os.path.exists(out_dir):\n",
    "#         os.mkdir(out_dir)\n",
    "\n",
    "    i = 0\n",
    "    key_url_test = ParseData(test_file)\n",
    "    for key_url in key_url_test:\n",
    "        DownloadImage(key_url, test_dir)\n",
    "        i += 1\n",
    "        if (i % 5000) == 0:\n",
    "            print(\"Finished %d pictures\" % i)\n",
    "        \n",
    "    key_url_index = ParseData(index_file)\n",
    "    for key_url in key_url_index:\n",
    "        DownloadImage(key_url, index_dir)\n",
    "        i += 1\n",
    "        if (i % 5000) == 0:\n",
    "            print(\"Finished %d pictures\" % i)\n",
    "        \n",
    "        \n",
    "#     pool = multiprocessing.Pool(processes=50)\n",
    "#     pool.map(DownloadImage, key_url_list)\n"
   ]
  },
  {
   "cell_type": "code",
   "execution_count": null,
   "metadata": {},
   "outputs": [],
   "source": [
    "Run()"
   ]
  },
  {
   "cell_type": "code",
   "execution_count": null,
   "metadata": {},
   "outputs": [],
   "source": [
    "def DownloadImageIndex(key_url):\n",
    "    index_dir = \"/home/kylecshan/data/index/all/\"\n",
    "    DownloadImage(key_url, index_dir)\n",
    "\n",
    "def Run2():\n",
    "#     if len(sys.argv) != 3:\n",
    "#         print('Syntax: %s <data_file.csv> <output_dir/>' % sys.argv[0])\n",
    "#         sys.exit(0)\n",
    "#     (data_file, out_dir) = sys.argv[1:]\n",
    "\n",
    "#     if not os.path.exists(out_dir):\n",
    "#         os.mkdir(out_dir)\n",
    "\n",
    "    key_url_index = ParseData(index_file)\n",
    "    key_url_index = key_url_index[954074:]\n",
    "    pool = multiprocessing.Pool(processes=50)\n",
    "    pool.map(DownloadImageIndex, key_url_index)"
   ]
  },
  {
   "cell_type": "code",
   "execution_count": null,
   "metadata": {
    "scrolled": true
   },
   "outputs": [],
   "source": [
    "Run2()"
   ]
  },
  {
   "cell_type": "code",
   "execution_count": null,
   "metadata": {},
   "outputs": [],
   "source": [
    "key_url_index = ParseData(index_file)\n",
    "pool = multiprocessing.Pool(processes=50)\n",
    "pool.map(DownloadImageIndex, key_url_index)"
   ]
  },
  {
   "cell_type": "code",
   "execution_count": null,
   "metadata": {},
   "outputs": [],
   "source": []
  },
  {
   "cell_type": "code",
   "execution_count": null,
   "metadata": {},
   "outputs": [],
   "source": []
  },
  {
   "cell_type": "code",
   "execution_count": null,
   "metadata": {},
   "outputs": [],
   "source": []
  },
  {
   "cell_type": "code",
   "execution_count": null,
   "metadata": {},
   "outputs": [],
   "source": []
  },
  {
   "cell_type": "code",
   "execution_count": null,
   "metadata": {},
   "outputs": [],
   "source": []
  },
  {
   "cell_type": "code",
   "execution_count": null,
   "metadata": {},
   "outputs": [],
   "source": []
  },
  {
   "cell_type": "code",
   "execution_count": null,
   "metadata": {},
   "outputs": [],
   "source": []
  },
  {
   "cell_type": "code",
   "execution_count": null,
   "metadata": {},
   "outputs": [],
   "source": []
  },
  {
   "cell_type": "code",
   "execution_count": null,
   "metadata": {},
   "outputs": [],
   "source": []
  }
 ],
 "metadata": {
  "kernelspec": {
   "display_name": "Python 2",
   "language": "python",
   "name": "python2"
  },
  "language_info": {
   "codemirror_mode": {
    "name": "ipython",
    "version": 2
   },
   "file_extension": ".py",
   "mimetype": "text/x-python",
   "name": "python",
   "nbconvert_exporter": "python",
   "pygments_lexer": "ipython2",
   "version": "2.7.13"
  }
 },
 "nbformat": 4,
 "nbformat_minor": 2
}

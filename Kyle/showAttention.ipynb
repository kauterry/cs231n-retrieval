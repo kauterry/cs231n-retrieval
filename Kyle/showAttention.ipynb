{
 "cells": [
  {
   "cell_type": "code",
   "execution_count": null,
   "metadata": {},
   "outputs": [],
   "source": [
    "import sys\n",
    "from PIL import Image\n",
    "from torchvision import models, transforms, utils\n",
    "import torch\n",
    "import torch.nn as nn\n",
    "import torch.nn.functional as F\n",
    "from collections import OrderedDict\n",
    "import os\n",
    "\n",
    "import numpy as np\n",
    "\n",
    "import matplotlib.pyplot as plt\n",
    "\n",
    "sys.path.insert(0, \"/home/kylecshan/Kaushik/retrieval/\")\n",
    "from model import load_model"
   ]
  },
  {
   "cell_type": "code",
   "execution_count": null,
   "metadata": {},
   "outputs": [],
   "source": [
    "model_name = \"delf\"\n",
    "model_path = \"/home/kylecshan/saved/06_01_2019/triplet/delf/model1_epoch7.pth\""
   ]
  },
  {
   "cell_type": "code",
   "execution_count": null,
   "metadata": {},
   "outputs": [],
   "source": [
    "model = load_model(model_name, model_path)"
   ]
  },
  {
   "cell_type": "code",
   "execution_count": null,
   "metadata": {},
   "outputs": [],
   "source": [
    "\n",
    "image_dir = \"/home/kylecshan/data/images224/train_ms2000_v5/test/122284\"\n",
    "i = 0\n",
    "allimages = []\n",
    "for root, folder, file in os.walk(image_dir):\n",
    "    for f in file:\n",
    "        allimages.append(os.path.join(root, f))\n",
    "allimages"
   ]
  },
  {
   "cell_type": "code",
   "execution_count": null,
   "metadata": {},
   "outputs": [],
   "source": [
    "vis_transform = transforms.Compose([\n",
    "                transforms.Resize(224),\n",
    "                transforms.CenterCrop(224),\n",
    "                transforms.ToTensor(),\n",
    "            ])\n",
    "\n",
    "normalize = transforms.Normalize([0.485, 0.456, 0.406], [0.229, 0.224, 0.225])\n",
    "    \n",
    "\n",
    "def viewimgtensor(img):\n",
    "    img = torch.transpose(torch.transpose(img, 0, 2), 0, 1)\n",
    "    plt.imshow(img)"
   ]
  },
  {
   "cell_type": "code",
   "execution_count": null,
   "metadata": {},
   "outputs": [],
   "source": [
    "convmodel = nn.Sequential(*list(model.module.children())[:2])\n",
    "attnpool = list(model.module.children())[2]"
   ]
  },
  {
   "cell_type": "code",
   "execution_count": null,
   "metadata": {},
   "outputs": [],
   "source": [
    "device = torch.device(\"cuda:0\" if torch.cuda.is_available() else \"cpu\")\n",
    "\n",
    "def get_attention(img):\n",
    "    imginput = normalize(img)\n",
    "    imginput = imginput.view(-1,3,224,224).to(device)\n",
    "    features = convmodel(imginput)\n",
    "    \n",
    "    scores = attnpool.conv2(attnpool.conv1(features).clamp(min=0))\n",
    "    scores = attnpool.activ(scores)\n",
    "    \n",
    "    scores = nn.Upsample(scale_factor=32, mode='nearest')(scores)\n",
    "    scores = scores.squeeze().view(1,224,224)\n",
    "    \n",
    "    scores = scores/torch.max(scores)\n",
    "    scores = scores.repeat(3,1,1).cpu()\n",
    "    return(scores)"
   ]
  },
  {
   "cell_type": "code",
   "execution_count": null,
   "metadata": {},
   "outputs": [],
   "source": [
    "#i = 112\n",
    "#i = 280\n",
    "#i = 468\n",
    "#i += 4\n",
    "i = 2\n",
    "image_path = allimages[i]\n",
    "img = Image.open(image_path)\n",
    "img = vis_transform(img)\n",
    "\n",
    "attn = get_attention(img)\n",
    "grid = utils.make_grid([img, attn, img*attn], nrow=3)\n",
    "plt.imshow(grid.numpy().transpose(1,2,0))"
   ]
  },
  {
   "cell_type": "code",
   "execution_count": null,
   "metadata": {},
   "outputs": [],
   "source": [
    "i"
   ]
  },
  {
   "cell_type": "code",
   "execution_count": null,
   "metadata": {},
   "outputs": [],
   "source": []
  },
  {
   "cell_type": "code",
   "execution_count": null,
   "metadata": {},
   "outputs": [],
   "source": [
    "img.size()"
   ]
  },
  {
   "cell_type": "code",
   "execution_count": null,
   "metadata": {},
   "outputs": [],
   "source": []
  }
 ],
 "metadata": {
  "kernelspec": {
   "display_name": "Python [conda env:root] *",
   "language": "python",
   "name": "conda-root-py"
  },
  "language_info": {
   "codemirror_mode": {
    "name": "ipython",
    "version": 3
   },
   "file_extension": ".py",
   "mimetype": "text/x-python",
   "name": "python",
   "nbconvert_exporter": "python",
   "pygments_lexer": "ipython3",
   "version": "3.7.3"
  }
 },
 "nbformat": 4,
 "nbformat_minor": 2
}

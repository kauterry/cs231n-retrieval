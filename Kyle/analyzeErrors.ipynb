{
 "cells": [
  {
   "cell_type": "code",
   "execution_count": null,
   "metadata": {},
   "outputs": [],
   "source": [
    "import torch\n",
    "import torch.nn as nn\n",
    "import torch.optim as optim\n",
    "import torchvision\n",
    "from torchvision import datasets, transforms, utils\n",
    "import os\n",
    "import numpy as np\n",
    "import sys\n",
    "import matplotlib.pyplot as plt\n",
    "from PIL import Image\n",
    "import random\n",
    "\n",
    "sys.path.insert(0,'/home/kylecshan/Kaushik/')\n",
    "from model import initialize_model\n"
   ]
  },
  {
   "cell_type": "code",
   "execution_count": null,
   "metadata": {},
   "outputs": [],
   "source": [
    "input_size = 224\n",
    "base_dir = '/home/kylecshan/data/images224/train_ms2000_v3/'\n",
    "test_dir = base_dir + 'val/'\n",
    "train_dir = base_dir + 'train/'\n",
    "batch_size = 256\n",
    "\n",
    "data_transform = transforms.Compose([\n",
    "            transforms.Resize(input_size),\n",
    "            transforms.CenterCrop(input_size),\n",
    "            transforms.ToTensor(),\n",
    "            transforms.Normalize([0.485, 0.456, 0.406], [0.229, 0.224, 0.225])\n",
    "        ])\n",
    "\n",
    "test_dataset = datasets.ImageFolder(test_dir, data_transform)\n",
    "test_loader = torch.utils.data.DataLoader(test_dataset, batch_size=batch_size, shuffle = False, num_workers=4)"
   ]
  },
  {
   "cell_type": "code",
   "execution_count": null,
   "metadata": {},
   "outputs": [],
   "source": [
    "model_path = '/home/kylecshan/saved/05_16_2019/model815.pth'\n",
    "\n",
    "model_name = \"densenet169\"\n",
    "freeze_layers = 100\n",
    "num_classes = 2000"
   ]
  },
  {
   "cell_type": "code",
   "execution_count": null,
   "metadata": {},
   "outputs": [],
   "source": [
    "model = initialize_model(model_name, num_classes, freeze_layers, use_pretrained=True)\n",
    "model = nn.DataParallel(model)\n",
    "load_dict = torch.load(model_path)\n",
    "model.load_state_dict(load_dict)\n",
    "\n",
    "device = torch.device(\"cuda:0\" if torch.cuda.is_available() else \"cpu\")\n",
    "model = model.to(device)\n",
    "model.eval()\n",
    "print('')"
   ]
  },
  {
   "cell_type": "code",
   "execution_count": null,
   "metadata": {},
   "outputs": [],
   "source": [
    "\n",
    "top = (1,5)\n",
    "correct = {x : np.zeros(num_classes) for x in top}\n",
    "seen = {x : np.zeros(num_classes) for x in top}\n",
    "top_pred = {}\n",
    "\n",
    "wrong = []\n",
    "\n",
    "for i, (inputs, labels) in enumerate(test_loader):\n",
    "    inputs = inputs.to(device)\n",
    "    labels = labels.numpy()\n",
    "    # forward\n",
    "    print('batch %d / %d' % (i, len(test_loader.dataset)//batch_size))\n",
    "    with torch.set_grad_enabled(False):\n",
    "        outputs = model(inputs)\n",
    "        outputs.grad_enabled = False\n",
    "\n",
    "        for k in top:\n",
    "            _, pred = torch.topk(outputs, k=k, dim=1)\n",
    "            top_pred[k] = pred.cpu().numpy()\n",
    "\n",
    "            batch_correct = np.sum(top_pred[k] == labels[:,None], axis=1)\n",
    "            for i in range(len(labels)):\n",
    "                actual = labels[i]\n",
    "                correct[k][actual] += batch_correct[i]\n",
    "                seen[k][actual] += 1\n",
    "\n",
    "                if k == 5:\n",
    "                    t1 = torch.argmax(outputs[i])\n",
    "                    if t1.item() != labels[i]:\n",
    "                        next_wrong = (inputs[i].cpu(), np.max(top_pred[k][i,:]), labels[i], top_pred[k][i,:])\n",
    "                        wrong.append(next_wrong)\n",
    "                    \n",
    "        del outputs\n",
    "\n",
    "test_acc = {}\n",
    "for k in top:\n",
    "    test_acc[k] = np.zeros(num_classes)\n",
    "    for i in range(num_classes):\n",
    "        test_acc[k][i] = 0 if seen[k][i] == 0 else correct[k][i] / seen[k][i]\n",
    "    print('Top %d accuracy: %f' % (k, np.sum(correct[k]) / np.sum(seen[k])))\n"
   ]
  },
  {
   "cell_type": "code",
   "execution_count": null,
   "metadata": {},
   "outputs": [],
   "source": [
    "vis_transform = transforms.Compose([\n",
    "                transforms.Resize(input_size),\n",
    "                transforms.CenterCrop(input_size),\n",
    "                transforms.ToTensor(),\n",
    "            ])\n",
    "\n",
    "def example_grid(classid, base_dir, num_examples):\n",
    "    img_dir = base_dir + str(classid) + '/'\n",
    "    img_arr = torch.empty((num_examples, 3, 224, 224))\n",
    "    imgs = random.sample(os.listdir(img_dir), num_examples)\n",
    "    for i in range(num_examples):\n",
    "        file = imgs[i]\n",
    "        path = img_dir + file\n",
    "        img = Image.open(path)\n",
    "        img = vis_transform(img)\n",
    "        img_arr[i] = img\n",
    "        if i == num_examples-1:\n",
    "            break\n",
    "    \n",
    "    return utils.make_grid(img_arr, nrow=3)"
   ]
  },
  {
   "cell_type": "code",
   "execution_count": null,
   "metadata": {},
   "outputs": [],
   "source": [
    "def visualize_error(idx_wrong):\n",
    "# idx_wrong is between 0 and the number of misclassified entries minus 1\n",
    "    i = idx_wrong\n",
    "    image_array = wrong[i][0].cpu().numpy()\n",
    "    mean=np.array([0.485, 0.456, 0.406])\n",
    "    std=np.array([0.229, 0.224, 0.225])\n",
    "    image_array = image_array*std[:,None,None] + mean[:,None,None]\n",
    "    image_array = image_array.clip(0, 1)\n",
    "    image_array = image_array.transpose((1,2,0))\n",
    "\n",
    "    plt.rcParams['figure.figsize'] = [16, 8]\n",
    "\n",
    "    f, axarr = plt.subplots(1,3)\n",
    "    axarr[0].imshow(image_array)\n",
    "    axarr[0].set_title('Incorrectly Classified Image')\n",
    "    axarr[0].axis('off')\n",
    "    \n",
    "    grid = example_grid(test_dataset.classes[wrong[i][1]], train_dir, 9)\n",
    "    axarr[1].imshow(grid.numpy().transpose((1, 2, 0)))\n",
    "    axarr[1].set_title('Predicted Class')\n",
    "    axarr[1].axis('off')\n",
    "\n",
    "    grid = example_grid(test_dataset.classes[wrong[i][2]], train_dir, 9)\n",
    "    axarr[2].imshow(grid.numpy().transpose((1, 2, 0)))\n",
    "    axarr[2].set_title('Actual Class')\n",
    "    axarr[2].axis('off')\n",
    "    return wrong[i][1:]"
   ]
  },
  {
   "cell_type": "code",
   "execution_count": null,
   "metadata": {},
   "outputs": [],
   "source": [
    "visualize_error(3)"
   ]
  },
  {
   "cell_type": "code",
   "execution_count": null,
   "metadata": {},
   "outputs": [],
   "source": [
    "visualize_error(4)"
   ]
  },
  {
   "cell_type": "code",
   "execution_count": null,
   "metadata": {},
   "outputs": [],
   "source": [
    "visualize_error(2)"
   ]
  },
  {
   "cell_type": "code",
   "execution_count": null,
   "metadata": {},
   "outputs": [],
   "source": [
    "len(wrong)"
   ]
  },
  {
   "cell_type": "code",
   "execution_count": null,
   "metadata": {},
   "outputs": [],
   "source": []
  },
  {
   "cell_type": "code",
   "execution_count": null,
   "metadata": {},
   "outputs": [],
   "source": []
  }
 ],
 "metadata": {
  "kernelspec": {
   "display_name": "Python [conda env:root] *",
   "language": "python",
   "name": "conda-root-py"
  },
  "language_info": {
   "codemirror_mode": {
    "name": "ipython",
    "version": 3
   },
   "file_extension": ".py",
   "mimetype": "text/x-python",
   "name": "python",
   "nbconvert_exporter": "python",
   "pygments_lexer": "ipython3",
   "version": "3.7.3"
  }
 },
 "nbformat": 4,
 "nbformat_minor": 2
}

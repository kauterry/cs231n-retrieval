{
 "cells": [
  {
   "cell_type": "code",
   "execution_count": null,
   "metadata": {},
   "outputs": [],
   "source": [
    "import os\n",
    "import pandas as pd"
   ]
  },
  {
   "cell_type": "code",
   "execution_count": null,
   "metadata": {},
   "outputs": [],
   "source": [
    "test_dir = \"/home/kylecshan/data/test/all/\"\n",
    "index_dir = \"/home/kylecshan/data/index/all/\"\n",
    "\n",
    "test_raw = \"/home/kylecshan/data/test.csv\"\n",
    "index_raw = \"/home/kylecshan/data/index.csv\"\n",
    "\n",
    "test_output = \"/home/kylecshan/data/test_filtered.csv\"\n",
    "index_output = \"/home/kylecshan/data/index_filtered.csv\""
   ]
  },
  {
   "cell_type": "code",
   "execution_count": null,
   "metadata": {},
   "outputs": [],
   "source": [
    "# Look in the directory and get list of images\n",
    "print(\"Looking for images in test folder...\")\n",
    "test_images = os.listdir(test_dir)\n",
    "print(\"Done with test folder. Looking in index folder...\")\n",
    "index_images = os.listdir(index_dir)\n",
    "print(\"Done with index folder\")"
   ]
  },
  {
   "cell_type": "code",
   "execution_count": null,
   "metadata": {},
   "outputs": [],
   "source": [
    "# Convert list to dataframe\n",
    "test_images = pd.DataFrame(test_images)\n",
    "index_images = pd.DataFrame(index_images)"
   ]
  },
  {
   "cell_type": "code",
   "execution_count": null,
   "metadata": {},
   "outputs": [],
   "source": [
    "# Sort list of images by their order in the raw csv\n",
    "def sort_by_raw_csv(folder_info, raw_file, output_file):\n",
    "    raw_info = pd.read_csv(raw_file)[[\"id\"]]\n",
    "    raw_info = raw_info.apply(lambda x: x + \".jpg\")\n",
    "    merged = pd.merge(raw_info, folder_info, left_on = \"id\", right_on = 0, how = \"inner\")\n",
    "    return merged[[\"id\"]]"
   ]
  },
  {
   "cell_type": "code",
   "execution_count": null,
   "metadata": {},
   "outputs": [],
   "source": [
    "# Do the sort\n",
    "test_images = sort_by_raw_csv(test_images, test_raw, test_output)\n",
    "index_images = sort_by_raw_csv(index_images, index_raw, index_output)"
   ]
  },
  {
   "cell_type": "code",
   "execution_count": null,
   "metadata": {},
   "outputs": [],
   "source": [
    "# Check length\n",
    "print(len(test_images))\n",
    "print(len(index_images))"
   ]
  },
  {
   "cell_type": "code",
   "execution_count": null,
   "metadata": {},
   "outputs": [],
   "source": [
    "# Export to csv\n",
    "test_images.to_csv(test_output, index=False)\n",
    "index_images.to_csv(index_output, index=False)"
   ]
  },
  {
   "cell_type": "code",
   "execution_count": null,
   "metadata": {},
   "outputs": [],
   "source": [
    "# Double check output\n",
    "pd.read_csv(test_output)"
   ]
  },
  {
   "cell_type": "code",
   "execution_count": null,
   "metadata": {},
   "outputs": [],
   "source": [
    "pd.read_csv(test_raw)"
   ]
  },
  {
   "cell_type": "code",
   "execution_count": null,
   "metadata": {},
   "outputs": [],
   "source": [
    "pd.read_csv(index_output)"
   ]
  },
  {
   "cell_type": "code",
   "execution_count": null,
   "metadata": {},
   "outputs": [],
   "source": []
  }
 ],
 "metadata": {
  "kernelspec": {
   "display_name": "Python [conda env:root] *",
   "language": "python",
   "name": "conda-root-py"
  },
  "language_info": {
   "codemirror_mode": {
    "name": "ipython",
    "version": 3
   },
   "file_extension": ".py",
   "mimetype": "text/x-python",
   "name": "python",
   "nbconvert_exporter": "python",
   "pygments_lexer": "ipython3",
   "version": "3.7.3"
  }
 },
 "nbformat": 4,
 "nbformat_minor": 2
}

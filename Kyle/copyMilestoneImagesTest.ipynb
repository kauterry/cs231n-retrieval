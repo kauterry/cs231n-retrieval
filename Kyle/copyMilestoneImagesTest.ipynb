{
 "cells": [
  {
   "cell_type": "code",
   "execution_count": null,
   "metadata": {},
   "outputs": [],
   "source": [
    "#import os\n",
    "#import shutil\n",
    "#from PIL import Image\n",
    "\n",
    "# use createImageFolder instead"
   ]
  },
  {
   "cell_type": "code",
   "execution_count": null,
   "metadata": {},
   "outputs": [],
   "source": [
    "source = \"/home/kylecshan/data/images/train/\"\n",
    "dest = \"/home/kylecshan/data/images/train_ms/\"\n",
    "\n",
    "i = 0\n",
    "j = 0\n",
    "for file in os.scandir(source):\n",
    "    im = Image.open(file.path)\n",
    "    w,h = im.size\n",
    "\n",
    "    if w >= 256 and h >= 256:\n",
    "        shutil.copy(file.path, dest)\n",
    "        j += 1\n",
    "    if i % 10 is 9:\n",
    "        print(\"Looked at %d images, copied %d\" % (i,j))\n",
    "    if j >= 1000:\n",
    "        break\n",
    "    i += 1\n",
    "print(\"Stopped at i = %d, j = %d\" % (i,j))"
   ]
  },
  {
   "cell_type": "code",
   "execution_count": null,
   "metadata": {},
   "outputs": [],
   "source": []
  },
  {
   "cell_type": "code",
   "execution_count": null,
   "metadata": {},
   "outputs": [],
   "source": []
  },
  {
   "cell_type": "code",
   "execution_count": null,
   "metadata": {},
   "outputs": [],
   "source": []
  }
 ],
 "metadata": {
  "kernelspec": {
   "display_name": "Python [conda env:root] *",
   "language": "python",
   "name": "conda-root-py"
  },
  "language_info": {
   "codemirror_mode": {
    "name": "ipython",
    "version": 3
   },
   "file_extension": ".py",
   "mimetype": "text/x-python",
   "name": "python",
   "nbconvert_exporter": "python",
   "pygments_lexer": "ipython3",
   "version": "3.7.3"
  }
 },
 "nbformat": 4,
 "nbformat_minor": 2
}

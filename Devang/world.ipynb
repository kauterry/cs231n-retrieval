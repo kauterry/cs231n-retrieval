{
 "cells": [
  {
   "cell_type": "code",
   "execution_count": null,
   "metadata": {
    "lines_to_next_cell": 2
   },
   "outputs": [],
   "source": [
    "import os\n",
    "import os.path as osp\n",
    "from easydict import EasyDict as edict"
   ]
  },
  {
   "cell_type": "code",
   "execution_count": null,
   "metadata": {},
   "outputs": [],
   "source": [
    "__C = edict()\n",
    "cfg = __C"
   ]
  },
  {
   "cell_type": "code",
   "execution_count": null,
   "metadata": {
    "lines_to_next_cell": 2
   },
   "outputs": [],
   "source": [
    "__C.ROOT_DIR = osp.abspath(osp.dirname(__file__))\n",
    "__C.EXPERIMENT_DIR = osp.join(__C.ROOT_DIR, 'experiments')\n",
    "if not osp.exists(__C.EXPERIMENT_DIR):\n",
    "    os.makedirs(__C.EXPERIMENT_DIR)"
   ]
  },
  {
   "cell_type": "code",
   "execution_count": null,
   "metadata": {},
   "outputs": [],
   "source": [
    "# Prepare the datasets ---------------------------------------------------      \n",
    "__C.DATASETS = edict()"
   ]
  },
  {
   "cell_type": "code",
   "execution_count": null,
   "metadata": {},
   "outputs": [],
   "source": [
    "__C.DATASETS.RECOGNITION = edict()\n",
    "__C.DATASETS.RECOGNITION.ROOT_DIR = osp.join(__C.ROOT_DIR, 'recognition')\n",
    "__C.DATASETS.RECOGNITION.TRAIN_DIR = osp.join(__C.DATASETS.RECOGNITION.ROOT_DIR, 'train')   # run prepare_datasets.py to generate\n",
    "__C.DATASETS.RECOGNITION.TEST_DIR = osp.join(__C.DATASETS.RECOGNITION.ROOT_DIR, 'test')     # run prepare_datasets.py to generate\n",
    "__C.DATASETS.RECOGNITION.NUM_CLASSES = 14951         # For assertion"
   ]
  },
  {
   "cell_type": "code",
   "execution_count": null,
   "metadata": {
    "lines_to_next_cell": 2
   },
   "outputs": [],
   "source": []
  },
  {
   "cell_type": "code",
   "execution_count": null,
   "metadata": {
    "lines_to_next_cell": 1
   },
   "outputs": [],
   "source": [
    "import logging"
   ]
  },
  {
   "cell_type": "code",
   "execution_count": null,
   "metadata": {},
   "outputs": [],
   "source": [
    "def create_logger(filename, logger_name='logger', \n",
    "                  file_fmt='%(asctime)s %(levelname)-8s: %(message)s',\n",
    "                  console_fmt='%(message)s',\n",
    "                  file_level=logging.DEBUG, console_level=logging.DEBUG):\n",
    "    \n",
    "    logger = logging.getLogger(logger_name)\n",
    "    logger.setLevel(logging.DEBUG)\n",
    "    logger.propagate = False\n",
    "\n",
    "    file_fmt = logging.Formatter(file_fmt)\n",
    "    log_file = logging.FileHandler(filename)\n",
    "    log_file.setLevel(file_level)\n",
    "    log_file.setFormatter(file_fmt)\n",
    "    logger.addHandler(log_file)\n",
    "\n",
    "    console_fmt = logging.Formatter(console_fmt)\n",
    "    log_console = logging.StreamHandler()\n",
    "    log_console.setLevel(logging.DEBUG)\n",
    "    log_console.setFormatter(console_fmt)\n",
    "    logger.addHandler(log_console)\n",
    "\n",
    "    return logger"
   ]
  },
  {
   "cell_type": "code",
   "execution_count": null,
   "metadata": {},
   "outputs": [],
   "source": [
    "class AverageMeter(object):\n",
    "    \"\"\"Computes and stores the average and current value\"\"\"\n",
    "    def __init__(self):\n",
    "        self.reset()\n",
    "\n",
    "    def reset(self):\n",
    "        self.val = 0\n",
    "        self.avg = 0\n",
    "        self.sum = 0\n",
    "        self.count = 0\n",
    "\n",
    "    def update(self, val, n=1):\n",
    "        self.val = val\n",
    "        self.sum += val * n\n",
    "        self.count += n\n",
    "        self.avg = self.sum / self.count"
   ]
  },
  {
   "cell_type": "code",
   "execution_count": null,
   "metadata": {},
   "outputs": [],
   "source": [
    "def accuracy(output, target, topk=(1,)):\n",
    "    \"\"\"Computes the precision@k for the specified values of k\"\"\"\n",
    "    maxk = max(topk)\n",
    "    batch_size = target.size(0)\n",
    "\n",
    "    _, pred = output.topk(maxk, 1, True, True)\n",
    "    pred = pred.t()\n",
    "    correct = pred.eq(target.view(1, -1).expand_as(pred))\n",
    "\n",
    "    res = []\n",
    "    for k in topk:\n",
    "        correct_k = correct[:k].view(-1).float().sum(0, keepdim=True)\n",
    "        res.append(correct_k.mul_(100.0 / batch_size))\n",
    "    return res"
   ]
  }
 ],
 "metadata": {
  "jupytext": {
   "cell_metadata_filter": "-all",
   "main_language": "python",
   "notebook_metadata_filter": "-all"
  },
  "kernelspec": {
   "display_name": "Python 3",
   "language": "python",
   "name": "python3"
  },
  "language_info": {
   "codemirror_mode": {
    "name": "ipython",
    "version": 3
   },
   "file_extension": ".py",
   "mimetype": "text/x-python",
   "name": "python",
   "nbconvert_exporter": "python",
   "pygments_lexer": "ipython3",
   "version": "3.7.3"
  }
 },
 "nbformat": 4,
 "nbformat_minor": 2
}
